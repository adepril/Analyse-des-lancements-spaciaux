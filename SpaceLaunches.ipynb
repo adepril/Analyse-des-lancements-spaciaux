{
  "nbformat": 4,
  "nbformat_minor": 0,
  "metadata": {
    "colab": {
      "name": "SpaceLaunches.ipynb",
      "provenance": [],
      "authorship_tag": "ABX9TyPGoN7Lafc6rpAZKhyzoCpD",
      "include_colab_link": true
    },
    "kernelspec": {
      "name": "python3",
      "display_name": "Python 3"
    },
    "language_info": {
      "name": "python"
    }
  },
  "cells": [
    {
      "cell_type": "markdown",
      "metadata": {
        "id": "view-in-github",
        "colab_type": "text"
      },
      "source": [
        "<a href=\"https://colab.research.google.com/github/adepril/Analyse-des-lancements-spaciaux/blob/main/SpaceLaunches.ipynb\" target=\"_parent\"><img src=\"https://colab.research.google.com/assets/colab-badge.svg\" alt=\"Open In Colab\"/></a>"
      ]
    },
    {
      "cell_type": "markdown",
      "metadata": {
        "id": "LN3y_FCjVlG7"
      },
      "source": [
        "Analyse des lancements spatiaux (jeu de données récupéré sur Kaggle). "
      ]
    },
    {
      "cell_type": "code",
      "metadata": {
        "colab": {
          "base_uri": "https://localhost:8080/",
          "height": 194
        },
        "id": "LWrNAFtISCyT",
        "outputId": "372e78ec-948c-4721-ad7f-7df7bc514495"
      },
      "source": [
        "import pandas as pd\n",
        "import numpy as np\n",
        "import matplotlib.pyplot as plt\n",
        "import plotly.express as px\n",
        "\n",
        "df = pd.read_csv('https://raw.githubusercontent.com/adepril/datasets/main/space_launches.csv')\n",
        "df.head()"
      ],
      "execution_count": 1,
      "outputs": [
        {
          "output_type": "execute_result",
          "data": {
            "text/html": [
              "<div>\n",
              "<style scoped>\n",
              "    .dataframe tbody tr th:only-of-type {\n",
              "        vertical-align: middle;\n",
              "    }\n",
              "\n",
              "    .dataframe tbody tr th {\n",
              "        vertical-align: top;\n",
              "    }\n",
              "\n",
              "    .dataframe thead th {\n",
              "        text-align: right;\n",
              "    }\n",
              "</style>\n",
              "<table border=\"1\" class=\"dataframe\">\n",
              "  <thead>\n",
              "    <tr style=\"text-align: right;\">\n",
              "      <th></th>\n",
              "      <th>Unnamed: 0</th>\n",
              "      <th>Unnamed: 0.1</th>\n",
              "      <th>Company Name</th>\n",
              "      <th>Location</th>\n",
              "      <th>Datum</th>\n",
              "      <th>Detail</th>\n",
              "      <th>Status Rocket</th>\n",
              "      <th>Rocket</th>\n",
              "      <th>Status Mission</th>\n",
              "    </tr>\n",
              "  </thead>\n",
              "  <tbody>\n",
              "    <tr>\n",
              "      <th>0</th>\n",
              "      <td>0</td>\n",
              "      <td>0</td>\n",
              "      <td>SpaceX</td>\n",
              "      <td>LC-39A, Kennedy Space Center, Florida, USA</td>\n",
              "      <td>Fri Aug 07, 2020 05:12 UTC</td>\n",
              "      <td>Falcon 9 Block 5 | Starlink V1 L9 &amp; BlackSky</td>\n",
              "      <td>StatusActive</td>\n",
              "      <td>50.0</td>\n",
              "      <td>Success</td>\n",
              "    </tr>\n",
              "    <tr>\n",
              "      <th>1</th>\n",
              "      <td>1</td>\n",
              "      <td>1</td>\n",
              "      <td>CASC</td>\n",
              "      <td>Site 9401 (SLS-2), Jiuquan Satellite Launch Ce...</td>\n",
              "      <td>Thu Aug 06, 2020 04:01 UTC</td>\n",
              "      <td>Long March 2D | Gaofen-9 04 &amp; Q-SAT</td>\n",
              "      <td>StatusActive</td>\n",
              "      <td>29.75</td>\n",
              "      <td>Success</td>\n",
              "    </tr>\n",
              "    <tr>\n",
              "      <th>2</th>\n",
              "      <td>2</td>\n",
              "      <td>2</td>\n",
              "      <td>SpaceX</td>\n",
              "      <td>Pad A, Boca Chica, Texas, USA</td>\n",
              "      <td>Tue Aug 04, 2020 23:57 UTC</td>\n",
              "      <td>Starship Prototype | 150 Meter Hop</td>\n",
              "      <td>StatusActive</td>\n",
              "      <td>NaN</td>\n",
              "      <td>Success</td>\n",
              "    </tr>\n",
              "    <tr>\n",
              "      <th>3</th>\n",
              "      <td>3</td>\n",
              "      <td>3</td>\n",
              "      <td>Roscosmos</td>\n",
              "      <td>Site 200/39, Baikonur Cosmodrome, Kazakhstan</td>\n",
              "      <td>Thu Jul 30, 2020 21:25 UTC</td>\n",
              "      <td>Proton-M/Briz-M | Ekspress-80 &amp; Ekspress-103</td>\n",
              "      <td>StatusActive</td>\n",
              "      <td>65.0</td>\n",
              "      <td>Success</td>\n",
              "    </tr>\n",
              "    <tr>\n",
              "      <th>4</th>\n",
              "      <td>4</td>\n",
              "      <td>4</td>\n",
              "      <td>ULA</td>\n",
              "      <td>SLC-41, Cape Canaveral AFS, Florida, USA</td>\n",
              "      <td>Thu Jul 30, 2020 11:50 UTC</td>\n",
              "      <td>Atlas V 541 | Perseverance</td>\n",
              "      <td>StatusActive</td>\n",
              "      <td>145.0</td>\n",
              "      <td>Success</td>\n",
              "    </tr>\n",
              "  </tbody>\n",
              "</table>\n",
              "</div>"
            ],
            "text/plain": [
              "   Unnamed: 0  Unnamed: 0.1 Company Name  ... Status Rocket  Rocket Status Mission\n",
              "0           0             0       SpaceX  ...  StatusActive   50.0         Success\n",
              "1           1             1         CASC  ...  StatusActive  29.75         Success\n",
              "2           2             2       SpaceX  ...  StatusActive     NaN        Success\n",
              "3           3             3    Roscosmos  ...  StatusActive   65.0         Success\n",
              "4           4             4          ULA  ...  StatusActive  145.0         Success\n",
              "\n",
              "[5 rows x 9 columns]"
            ]
          },
          "metadata": {
            "tags": []
          },
          "execution_count": 1
        }
      ]
    },
    {
      "cell_type": "markdown",
      "metadata": {
        "id": "LaK9KWKVWuSP"
      },
      "source": [
        "Dans un premier temps, nous allons supprimer les deux colonne \"Unnamed 0\" et \"Unnamed 0.1\" qui ne servent à rien."
      ]
    },
    {
      "cell_type": "code",
      "metadata": {
        "colab": {
          "base_uri": "https://localhost:8080/",
          "height": 194
        },
        "id": "Xs0o-AuaS8BF",
        "outputId": "b21b4a56-c581-418d-838a-3b80e36b92dc"
      },
      "source": [
        "df = df.drop(['Unnamed: 0','Unnamed: 0.1'],axis=1).reset_index(drop=True)\n",
        "df.sample(5)"
      ],
      "execution_count": 2,
      "outputs": [
        {
          "output_type": "execute_result",
          "data": {
            "text/html": [
              "<div>\n",
              "<style scoped>\n",
              "    .dataframe tbody tr th:only-of-type {\n",
              "        vertical-align: middle;\n",
              "    }\n",
              "\n",
              "    .dataframe tbody tr th {\n",
              "        vertical-align: top;\n",
              "    }\n",
              "\n",
              "    .dataframe thead th {\n",
              "        text-align: right;\n",
              "    }\n",
              "</style>\n",
              "<table border=\"1\" class=\"dataframe\">\n",
              "  <thead>\n",
              "    <tr style=\"text-align: right;\">\n",
              "      <th></th>\n",
              "      <th>Company Name</th>\n",
              "      <th>Location</th>\n",
              "      <th>Datum</th>\n",
              "      <th>Detail</th>\n",
              "      <th>Status Rocket</th>\n",
              "      <th>Rocket</th>\n",
              "      <th>Status Mission</th>\n",
              "    </tr>\n",
              "  </thead>\n",
              "  <tbody>\n",
              "    <tr>\n",
              "      <th>4081</th>\n",
              "      <td>US Air Force</td>\n",
              "      <td>SLC-5, Vandenberg AFB, California, USA</td>\n",
              "      <td>Sun Jun 16, 1963 01:49 UTC</td>\n",
              "      <td>Scout X-3 | Transit-5A 3</td>\n",
              "      <td>StatusRetired</td>\n",
              "      <td>NaN</td>\n",
              "      <td>Success</td>\n",
              "    </tr>\n",
              "    <tr>\n",
              "      <th>2273</th>\n",
              "      <td>RVSN USSR</td>\n",
              "      <td>Site 132/2, Plesetsk Cosmodrome, Russia</td>\n",
              "      <td>Tue Apr 19, 1983 12:00 UTC</td>\n",
              "      <td>Cosmos-3M (11K65M) | Cosmos 1453</td>\n",
              "      <td>StatusRetired</td>\n",
              "      <td>NaN</td>\n",
              "      <td>Success</td>\n",
              "    </tr>\n",
              "    <tr>\n",
              "      <th>42</th>\n",
              "      <td>VKS RF</td>\n",
              "      <td>Site 43/4, Plesetsk Cosmodrome, Russia</td>\n",
              "      <td>Mon Mar 16, 2020 18:28 UTC</td>\n",
              "      <td>Soyuz 2.1b/Fregat-M | Cosmos 2545</td>\n",
              "      <td>StatusActive</td>\n",
              "      <td>NaN</td>\n",
              "      <td>Success</td>\n",
              "    </tr>\n",
              "    <tr>\n",
              "      <th>3719</th>\n",
              "      <td>RVSN USSR</td>\n",
              "      <td>Site 41/1, Plesetsk Cosmodrome, Russia</td>\n",
              "      <td>Fri Nov 03, 1967 11:20 UTC</td>\n",
              "      <td>Voskhod | Cosmos 190</td>\n",
              "      <td>StatusRetired</td>\n",
              "      <td>NaN</td>\n",
              "      <td>Success</td>\n",
              "    </tr>\n",
              "    <tr>\n",
              "      <th>4171</th>\n",
              "      <td>RVSN USSR</td>\n",
              "      <td>Mayak-2, Kapustin Yar, Russia</td>\n",
              "      <td>Fri Apr 06, 1962 17:15 UTC</td>\n",
              "      <td>Cosmos-2I (63S1) | Cosmos 2</td>\n",
              "      <td>StatusRetired</td>\n",
              "      <td>NaN</td>\n",
              "      <td>Success</td>\n",
              "    </tr>\n",
              "  </tbody>\n",
              "</table>\n",
              "</div>"
            ],
            "text/plain": [
              "      Company Name  ... Status Mission\n",
              "4081  US Air Force  ...        Success\n",
              "2273     RVSN USSR  ...        Success\n",
              "42          VKS RF  ...        Success\n",
              "3719     RVSN USSR  ...        Success\n",
              "4171     RVSN USSR  ...        Success\n",
              "\n",
              "[5 rows x 7 columns]"
            ]
          },
          "metadata": {
            "tags": []
          },
          "execution_count": 2
        }
      ]
    },
    {
      "cell_type": "markdown",
      "metadata": {
        "id": "b_cbPv6dX0-F"
      },
      "source": [
        "Création des nouvelles colonnes : \"Country\" , \"LaunchTime et LaunchDate : à partir de Datum pour une manipulation plus facile de l'heure et de la date\n",
        "\n"
      ]
    },
    {
      "cell_type": "code",
      "metadata": {
        "colab": {
          "base_uri": "https://localhost:8080/",
          "height": 295
        },
        "id": "244sUryeTD17",
        "outputId": "a35ccf34-206f-44e5-9b06-757b89424060"
      },
      "source": [
        "#Country: à partir de \"Location\"\n",
        "df['country'] = [str(val).split(',')[-1].lstrip() for val in df.loc[:]['Location']]\n",
        "#-Launch_time et Launch_date : à partir de Datum pour une manipulation plus facile de l'heure et de la date\n",
        "df['launch_time']=df['Datum'].str.split(\" \").str[-2]\n",
        "df['launch_date']=df['Datum'].str.split(\", \").str[-2]\n",
        "#creation colonne \"Year\"\n",
        "df['launch_year']=df['Datum'].str.split(\" \").str[-3]\n",
        "df.head()\n",
        "#df.sample(5)"
      ],
      "execution_count": 3,
      "outputs": [
        {
          "output_type": "execute_result",
          "data": {
            "text/html": [
              "<div>\n",
              "<style scoped>\n",
              "    .dataframe tbody tr th:only-of-type {\n",
              "        vertical-align: middle;\n",
              "    }\n",
              "\n",
              "    .dataframe tbody tr th {\n",
              "        vertical-align: top;\n",
              "    }\n",
              "\n",
              "    .dataframe thead th {\n",
              "        text-align: right;\n",
              "    }\n",
              "</style>\n",
              "<table border=\"1\" class=\"dataframe\">\n",
              "  <thead>\n",
              "    <tr style=\"text-align: right;\">\n",
              "      <th></th>\n",
              "      <th>Company Name</th>\n",
              "      <th>Location</th>\n",
              "      <th>Datum</th>\n",
              "      <th>Detail</th>\n",
              "      <th>Status Rocket</th>\n",
              "      <th>Rocket</th>\n",
              "      <th>Status Mission</th>\n",
              "      <th>country</th>\n",
              "      <th>launch_time</th>\n",
              "      <th>launch_date</th>\n",
              "      <th>launch_year</th>\n",
              "    </tr>\n",
              "  </thead>\n",
              "  <tbody>\n",
              "    <tr>\n",
              "      <th>0</th>\n",
              "      <td>SpaceX</td>\n",
              "      <td>LC-39A, Kennedy Space Center, Florida, USA</td>\n",
              "      <td>Fri Aug 07, 2020 05:12 UTC</td>\n",
              "      <td>Falcon 9 Block 5 | Starlink V1 L9 &amp; BlackSky</td>\n",
              "      <td>StatusActive</td>\n",
              "      <td>50.0</td>\n",
              "      <td>Success</td>\n",
              "      <td>USA</td>\n",
              "      <td>05:12</td>\n",
              "      <td>Fri Aug 07</td>\n",
              "      <td>2020</td>\n",
              "    </tr>\n",
              "    <tr>\n",
              "      <th>1</th>\n",
              "      <td>CASC</td>\n",
              "      <td>Site 9401 (SLS-2), Jiuquan Satellite Launch Ce...</td>\n",
              "      <td>Thu Aug 06, 2020 04:01 UTC</td>\n",
              "      <td>Long March 2D | Gaofen-9 04 &amp; Q-SAT</td>\n",
              "      <td>StatusActive</td>\n",
              "      <td>29.75</td>\n",
              "      <td>Success</td>\n",
              "      <td>China</td>\n",
              "      <td>04:01</td>\n",
              "      <td>Thu Aug 06</td>\n",
              "      <td>2020</td>\n",
              "    </tr>\n",
              "    <tr>\n",
              "      <th>2</th>\n",
              "      <td>SpaceX</td>\n",
              "      <td>Pad A, Boca Chica, Texas, USA</td>\n",
              "      <td>Tue Aug 04, 2020 23:57 UTC</td>\n",
              "      <td>Starship Prototype | 150 Meter Hop</td>\n",
              "      <td>StatusActive</td>\n",
              "      <td>NaN</td>\n",
              "      <td>Success</td>\n",
              "      <td>USA</td>\n",
              "      <td>23:57</td>\n",
              "      <td>Tue Aug 04</td>\n",
              "      <td>2020</td>\n",
              "    </tr>\n",
              "    <tr>\n",
              "      <th>3</th>\n",
              "      <td>Roscosmos</td>\n",
              "      <td>Site 200/39, Baikonur Cosmodrome, Kazakhstan</td>\n",
              "      <td>Thu Jul 30, 2020 21:25 UTC</td>\n",
              "      <td>Proton-M/Briz-M | Ekspress-80 &amp; Ekspress-103</td>\n",
              "      <td>StatusActive</td>\n",
              "      <td>65.0</td>\n",
              "      <td>Success</td>\n",
              "      <td>Kazakhstan</td>\n",
              "      <td>21:25</td>\n",
              "      <td>Thu Jul 30</td>\n",
              "      <td>2020</td>\n",
              "    </tr>\n",
              "    <tr>\n",
              "      <th>4</th>\n",
              "      <td>ULA</td>\n",
              "      <td>SLC-41, Cape Canaveral AFS, Florida, USA</td>\n",
              "      <td>Thu Jul 30, 2020 11:50 UTC</td>\n",
              "      <td>Atlas V 541 | Perseverance</td>\n",
              "      <td>StatusActive</td>\n",
              "      <td>145.0</td>\n",
              "      <td>Success</td>\n",
              "      <td>USA</td>\n",
              "      <td>11:50</td>\n",
              "      <td>Thu Jul 30</td>\n",
              "      <td>2020</td>\n",
              "    </tr>\n",
              "  </tbody>\n",
              "</table>\n",
              "</div>"
            ],
            "text/plain": [
              "  Company Name  ... launch_year\n",
              "0       SpaceX  ...        2020\n",
              "1         CASC  ...        2020\n",
              "2       SpaceX  ...        2020\n",
              "3    Roscosmos  ...        2020\n",
              "4          ULA  ...        2020\n",
              "\n",
              "[5 rows x 11 columns]"
            ]
          },
          "metadata": {
            "tags": []
          },
          "execution_count": 3
        }
      ]
    },
    {
      "cell_type": "markdown",
      "metadata": {
        "id": "mMaCFjhy624x"
      },
      "source": [
        "Création d'un dictionary mlappant les Compagnies au pays ..."
      ]
    },
    {
      "cell_type": "code",
      "metadata": {
        "id": "Z7zdKC8I9r38"
      },
      "source": [
        "dict_comp = dict(zip(df['Company Name'], df['country']))"
      ],
      "execution_count": 4,
      "outputs": []
    },
    {
      "cell_type": "markdown",
      "metadata": {
        "id": "cMcDiBaQ_s7I"
      },
      "source": [
        "... puis création d'une colonne \"sat_country\""
      ]
    },
    {
      "cell_type": "code",
      "metadata": {
        "id": "sU5Q5Lg561Dz"
      },
      "source": [
        "#Declare a Dictionary dict_comp to map company name to origin country\n",
        "df['sat_country'] = df['Company Name'].map(dict_comp)\n",
        "#df.sample(5)"
      ],
      "execution_count": 5,
      "outputs": []
    },
    {
      "cell_type": "markdown",
      "metadata": {
        "id": "8a9a9W71AOxB"
      },
      "source": [
        "Manipulation de la colonne \"Status Mission\" pour garder les valeurs \"Success\" et \"Failure\" (transformer \"Partial Failure\" et Prelaunch Failure\" en \"Failure\")."
      ]
    },
    {
      "cell_type": "code",
      "metadata": {
        "colab": {
          "base_uri": "https://localhost:8080/"
        },
        "id": "2EYOiXv1C8Bt",
        "outputId": "076dfe38-948e-4b09-882f-2168947d184c"
      },
      "source": [
        "# Il faut transformer \"Partial Failure\" et Prelaunch Failure\" en \"Failure\"\n",
        "df[\"Status Mission\"].value_counts()"
      ],
      "execution_count": 6,
      "outputs": [
        {
          "output_type": "execute_result",
          "data": {
            "text/plain": [
              "Success              3879\n",
              "Failure               339\n",
              "Partial Failure       102\n",
              "Prelaunch Failure       4\n",
              "Name: Status Mission, dtype: int64"
            ]
          },
          "metadata": {
            "tags": []
          },
          "execution_count": 6
        }
      ]
    },
    {
      "cell_type": "code",
      "metadata": {
        "colab": {
          "base_uri": "https://localhost:8080/"
        },
        "id": "GNs_X-ZoAPJZ",
        "outputId": "6476a413-a2a1-40e8-8a6c-8ee8d66fe2d5"
      },
      "source": [
        "# Nouvelle colonne \"StatusMission\" où dles valeurs \"Partial Failure\" et \"Prelaunch Failure\" sont transformées en \"Failure\"\n",
        "df[\"status_mission\"] = np.where(df[\"Status Mission\"]==\"Success\",\"Success\",\"Failure\")\n",
        "#Nouvelle colonne \"Success\" où success=1 et failure=0\n",
        "df[\"success\"] = np.where(df[\"Status Mission\"]==\"Success\",1,0)\n",
        "#Exemple\n",
        "df.iloc[973]"
      ],
      "execution_count": 7,
      "outputs": [
        {
          "output_type": "execute_result",
          "data": {
            "text/plain": [
              "Company Name                                      VKS RF\n",
              "Location          Site 32/2, Plesetsk Cosmodrome, Russia\n",
              "Datum                         Fri Dec 24, 2004 12:00 UTC\n",
              "Detail                    Tsyklon-3 | Sich 1M & Micron 1\n",
              "Status Rocket                              StatusRetired\n",
              " Rocket                                              NaN\n",
              "Status Mission                           Partial Failure\n",
              "country                                           Russia\n",
              "launch_time                                        12:00\n",
              "launch_date                                   Fri Dec 24\n",
              "launch_year                                         2004\n",
              "sat_country                                       Russia\n",
              "status_mission                                   Failure\n",
              "success                                                0\n",
              "Name: 973, dtype: object"
            ]
          },
          "metadata": {
            "tags": []
          },
          "execution_count": 7
        }
      ]
    },
    {
      "cell_type": "markdown",
      "metadata": {
        "id": "xY5bSP49nvrn"
      },
      "source": [
        "Manipulation des données en vue d'une représentation graphique"
      ]
    },
    {
      "cell_type": "code",
      "metadata": {
        "colab": {
          "base_uri": "https://localhost:8080/",
          "height": 135
        },
        "id": "n6BYhKh-GTji",
        "outputId": "3d675290-3449-4b08-c3b1-a8709db98efb"
      },
      "source": [
        "data_gp =df.groupby([\"sat_country\",\"launch_year\"]).agg({\"country\":\"count\",\"success\":\"sum\"}).reset_index()\n",
        "data_gp.head(3)"
      ],
      "execution_count": 19,
      "outputs": [
        {
          "output_type": "execute_result",
          "data": {
            "text/html": [
              "<div>\n",
              "<style scoped>\n",
              "    .dataframe tbody tr th:only-of-type {\n",
              "        vertical-align: middle;\n",
              "    }\n",
              "\n",
              "    .dataframe tbody tr th {\n",
              "        vertical-align: top;\n",
              "    }\n",
              "\n",
              "    .dataframe thead th {\n",
              "        text-align: right;\n",
              "    }\n",
              "</style>\n",
              "<table border=\"1\" class=\"dataframe\">\n",
              "  <thead>\n",
              "    <tr style=\"text-align: right;\">\n",
              "      <th></th>\n",
              "      <th>sat_country</th>\n",
              "      <th>launch_year</th>\n",
              "      <th>country</th>\n",
              "      <th>success</th>\n",
              "    </tr>\n",
              "  </thead>\n",
              "  <tbody>\n",
              "    <tr>\n",
              "      <th>0</th>\n",
              "      <td>Australia</td>\n",
              "      <td>1968</td>\n",
              "      <td>1</td>\n",
              "      <td>1</td>\n",
              "    </tr>\n",
              "    <tr>\n",
              "      <th>1</th>\n",
              "      <td>Australia</td>\n",
              "      <td>1969</td>\n",
              "      <td>1</td>\n",
              "      <td>0</td>\n",
              "    </tr>\n",
              "    <tr>\n",
              "      <th>2</th>\n",
              "      <td>Australia</td>\n",
              "      <td>1970</td>\n",
              "      <td>2</td>\n",
              "      <td>0</td>\n",
              "    </tr>\n",
              "  </tbody>\n",
              "</table>\n",
              "</div>"
            ],
            "text/plain": [
              "  sat_country launch_year  country  success\n",
              "0   Australia        1968        1        1\n",
              "1   Australia        1969        1        0\n",
              "2   Australia        1970        2        0"
            ]
          },
          "metadata": {
            "tags": []
          },
          "execution_count": 19
        }
      ]
    },
    {
      "cell_type": "code",
      "metadata": {
        "id": "uvB71vN_HA_6"
      },
      "source": [
        "df['total_launch'] = data_gp['country']\n",
        "df['total_launch'].value_counts()"
      ],
      "execution_count": null,
      "outputs": []
    },
    {
      "cell_type": "code",
      "metadata": {
        "colab": {
          "base_uri": "https://localhost:8080/",
          "height": 135
        },
        "id": "fctSS63JaQdT",
        "outputId": "11b5ca66-56f0-433e-9749-443ab1216892"
      },
      "source": [
        "data_gp.rename(columns={\"country\":\"total_launch\"},inplace=True)\n",
        "data_gp.head(3)"
      ],
      "execution_count": 21,
      "outputs": [
        {
          "output_type": "execute_result",
          "data": {
            "text/html": [
              "<div>\n",
              "<style scoped>\n",
              "    .dataframe tbody tr th:only-of-type {\n",
              "        vertical-align: middle;\n",
              "    }\n",
              "\n",
              "    .dataframe tbody tr th {\n",
              "        vertical-align: top;\n",
              "    }\n",
              "\n",
              "    .dataframe thead th {\n",
              "        text-align: right;\n",
              "    }\n",
              "</style>\n",
              "<table border=\"1\" class=\"dataframe\">\n",
              "  <thead>\n",
              "    <tr style=\"text-align: right;\">\n",
              "      <th></th>\n",
              "      <th>sat_country</th>\n",
              "      <th>launch_year</th>\n",
              "      <th>total_launch</th>\n",
              "      <th>success</th>\n",
              "    </tr>\n",
              "  </thead>\n",
              "  <tbody>\n",
              "    <tr>\n",
              "      <th>0</th>\n",
              "      <td>Australia</td>\n",
              "      <td>1968</td>\n",
              "      <td>1</td>\n",
              "      <td>1</td>\n",
              "    </tr>\n",
              "    <tr>\n",
              "      <th>1</th>\n",
              "      <td>Australia</td>\n",
              "      <td>1969</td>\n",
              "      <td>1</td>\n",
              "      <td>0</td>\n",
              "    </tr>\n",
              "    <tr>\n",
              "      <th>2</th>\n",
              "      <td>Australia</td>\n",
              "      <td>1970</td>\n",
              "      <td>2</td>\n",
              "      <td>0</td>\n",
              "    </tr>\n",
              "  </tbody>\n",
              "</table>\n",
              "</div>"
            ],
            "text/plain": [
              "  sat_country launch_year  total_launch  success\n",
              "0   Australia        1968             1        1\n",
              "1   Australia        1969             1        0\n",
              "2   Australia        1970             2        0"
            ]
          },
          "metadata": {
            "tags": []
          },
          "execution_count": 21
        }
      ]
    },
    {
      "cell_type": "code",
      "metadata": {
        "id": "KzbWLlRtgWcO"
      },
      "source": [
        "idx = pd.MultiIndex.from_product([data_gp['launch_year'].unique(), data_gp['sat_country'].unique()], names=['launch_year', 'sat_country']) \n",
        "#print(idx)"
      ],
      "execution_count": 22,
      "outputs": []
    },
    {
      "cell_type": "code",
      "metadata": {
        "id": "l7ZKooKjarxC"
      },
      "source": [
        "dat2 = data_gp.set_index(['launch_year', 'sat_country']).reindex(idx).fillna(0).sort_values(ascending=True,by=[\"sat_country\",\"launch_year\"]) \n",
        "#print(dat2)"
      ],
      "execution_count": 23,
      "outputs": []
    },
    {
      "cell_type": "code",
      "metadata": {
        "id": "mLn_PqQjfoar"
      },
      "source": [
        "dat2 = pd.concat([dat2, dat2.groupby(level=1).cumsum().add_prefix('cum_')], 1).sort_index(level=1).reset_index() \n",
        "#dat2"
      ],
      "execution_count": 24,
      "outputs": []
    },
    {
      "cell_type": "code",
      "metadata": {
        "id": "gKs2E9xKjwzy"
      },
      "source": [
        "dat2.sort_values(ascending=[True,False],by=[\"launch_year\",\"sat_country\"],inplace=True)\n",
        "#dat2"
      ],
      "execution_count": 25,
      "outputs": []
    },
    {
      "cell_type": "code",
      "metadata": {
        "id": "wP4mqoZLkicB"
      },
      "source": [
        "dat2.rename(columns={\"launch_year\":\"Year\",\"cum_total_launch\":\"Cumulative Launches\",\"sat_country\":\"Country\",\"cum_success\":\"Cumulative Successes\"},inplace=True) \n",
        "#dat2"
      ],
      "execution_count": 26,
      "outputs": []
    },
    {
      "cell_type": "markdown",
      "metadata": {
        "id": "COImL-wYnGNh"
      },
      "source": [
        "#Animation\n"
      ]
    },
    {
      "cell_type": "code",
      "metadata": {
        "id": "YkFxN63Wl8wY"
      },
      "source": [
        "px.bar(dat2,x=\"Country\",y=\"Cumulative Launches\",color=\"Country\",animation_group=\"Country\",animation_frame=\"Year\",range_y=[0,2200],width=1200)"
      ],
      "execution_count": null,
      "outputs": []
    },
    {
      "cell_type": "markdown",
      "metadata": {
        "id": "_SmQ5TOzuyoJ"
      },
      "source": [
        "Succès cumulés / Lancements cumulés"
      ]
    },
    {
      "cell_type": "code",
      "metadata": {
        "id": "6mBfzNNGmfzc"
      },
      "source": [
        "fig=px.scatter(\n",
        "    dat2, x=\"Cumulative Launches\", y=\"Cumulative Successes\", animation_frame=\"Year\", animation_group=\"Country\",\n",
        "    color=\"Country\", hover_name=\"Country\",size=\"Cumulative Launches\", size_max=55, range_x=[0,2400], range_y=[0,2200],\n",
        "    width=1000\n",
        "    )\n",
        "fig.update_layout(showlegend=True)"
      ],
      "execution_count": null,
      "outputs": []
    },
    {
      "cell_type": "markdown",
      "metadata": {
        "id": "szBGa_2L6hcf"
      },
      "source": [
        "TODO\n"
      ]
    },
    {
      "cell_type": "code",
      "metadata": {
        "colab": {
          "base_uri": "https://localhost:8080/",
          "height": 754
        },
        "id": "1L3Cia9e6rKf",
        "outputId": "5a7867c2-3f87-4eee-a8cd-a1f69109b139"
      },
      "source": [
        "#remplace \"NaN\" par \"0\" dans la colonne \"total_launch\"\n",
        "df['total_launch'].fillna(0, inplace = True)\n",
        "df.sample(5)\n",
        "df[df[\"sat_country\"]==\"USA\"]"
      ],
      "execution_count": 30,
      "outputs": [
        {
          "output_type": "execute_result",
          "data": {
            "text/html": [
              "<div>\n",
              "<style scoped>\n",
              "    .dataframe tbody tr th:only-of-type {\n",
              "        vertical-align: middle;\n",
              "    }\n",
              "\n",
              "    .dataframe tbody tr th {\n",
              "        vertical-align: top;\n",
              "    }\n",
              "\n",
              "    .dataframe thead th {\n",
              "        text-align: right;\n",
              "    }\n",
              "</style>\n",
              "<table border=\"1\" class=\"dataframe\">\n",
              "  <thead>\n",
              "    <tr style=\"text-align: right;\">\n",
              "      <th></th>\n",
              "      <th>Company Name</th>\n",
              "      <th>Location</th>\n",
              "      <th>Datum</th>\n",
              "      <th>Detail</th>\n",
              "      <th>Status Rocket</th>\n",
              "      <th>Rocket</th>\n",
              "      <th>Status Mission</th>\n",
              "      <th>country</th>\n",
              "      <th>launch_time</th>\n",
              "      <th>launch_date</th>\n",
              "      <th>launch_year</th>\n",
              "      <th>sat_country</th>\n",
              "      <th>status_mission</th>\n",
              "      <th>success</th>\n",
              "      <th>total_launch</th>\n",
              "    </tr>\n",
              "  </thead>\n",
              "  <tbody>\n",
              "    <tr>\n",
              "      <th>0</th>\n",
              "      <td>SpaceX</td>\n",
              "      <td>LC-39A, Kennedy Space Center, Florida, USA</td>\n",
              "      <td>Fri Aug 07, 2020 05:12 UTC</td>\n",
              "      <td>Falcon 9 Block 5 | Starlink V1 L9 &amp; BlackSky</td>\n",
              "      <td>StatusActive</td>\n",
              "      <td>50.0</td>\n",
              "      <td>Success</td>\n",
              "      <td>USA</td>\n",
              "      <td>05:12</td>\n",
              "      <td>Fri Aug 07</td>\n",
              "      <td>2020</td>\n",
              "      <td>USA</td>\n",
              "      <td>Success</td>\n",
              "      <td>1</td>\n",
              "      <td>1.0</td>\n",
              "    </tr>\n",
              "    <tr>\n",
              "      <th>2</th>\n",
              "      <td>SpaceX</td>\n",
              "      <td>Pad A, Boca Chica, Texas, USA</td>\n",
              "      <td>Tue Aug 04, 2020 23:57 UTC</td>\n",
              "      <td>Starship Prototype | 150 Meter Hop</td>\n",
              "      <td>StatusActive</td>\n",
              "      <td>NaN</td>\n",
              "      <td>Success</td>\n",
              "      <td>USA</td>\n",
              "      <td>23:57</td>\n",
              "      <td>Tue Aug 04</td>\n",
              "      <td>2020</td>\n",
              "      <td>USA</td>\n",
              "      <td>Success</td>\n",
              "      <td>1</td>\n",
              "      <td>2.0</td>\n",
              "    </tr>\n",
              "    <tr>\n",
              "      <th>4</th>\n",
              "      <td>ULA</td>\n",
              "      <td>SLC-41, Cape Canaveral AFS, Florida, USA</td>\n",
              "      <td>Thu Jul 30, 2020 11:50 UTC</td>\n",
              "      <td>Atlas V 541 | Perseverance</td>\n",
              "      <td>StatusActive</td>\n",
              "      <td>145.0</td>\n",
              "      <td>Success</td>\n",
              "      <td>USA</td>\n",
              "      <td>11:50</td>\n",
              "      <td>Thu Jul 30</td>\n",
              "      <td>2020</td>\n",
              "      <td>USA</td>\n",
              "      <td>Success</td>\n",
              "      <td>1</td>\n",
              "      <td>1.0</td>\n",
              "    </tr>\n",
              "    <tr>\n",
              "      <th>8</th>\n",
              "      <td>SpaceX</td>\n",
              "      <td>SLC-40, Cape Canaveral AFS, Florida, USA</td>\n",
              "      <td>Mon Jul 20, 2020 21:30 UTC</td>\n",
              "      <td>Falcon 9 Block 5 | ANASIS-II</td>\n",
              "      <td>StatusActive</td>\n",
              "      <td>50.0</td>\n",
              "      <td>Success</td>\n",
              "      <td>USA</td>\n",
              "      <td>21:30</td>\n",
              "      <td>Mon Jul 20</td>\n",
              "      <td>2020</td>\n",
              "      <td>USA</td>\n",
              "      <td>Success</td>\n",
              "      <td>1</td>\n",
              "      <td>1.0</td>\n",
              "    </tr>\n",
              "    <tr>\n",
              "      <th>10</th>\n",
              "      <td>Northrop</td>\n",
              "      <td>LP-0B, Wallops Flight Facility, Virginia, USA</td>\n",
              "      <td>Wed Jul 15, 2020 13:46 UTC</td>\n",
              "      <td>Minotaur IV | NROL-129</td>\n",
              "      <td>StatusActive</td>\n",
              "      <td>46.0</td>\n",
              "      <td>Success</td>\n",
              "      <td>USA</td>\n",
              "      <td>13:46</td>\n",
              "      <td>Wed Jul 15</td>\n",
              "      <td>2020</td>\n",
              "      <td>USA</td>\n",
              "      <td>Success</td>\n",
              "      <td>1</td>\n",
              "      <td>1.0</td>\n",
              "    </tr>\n",
              "    <tr>\n",
              "      <th>...</th>\n",
              "      <td>...</td>\n",
              "      <td>...</td>\n",
              "      <td>...</td>\n",
              "      <td>...</td>\n",
              "      <td>...</td>\n",
              "      <td>...</td>\n",
              "      <td>...</td>\n",
              "      <td>...</td>\n",
              "      <td>...</td>\n",
              "      <td>...</td>\n",
              "      <td>...</td>\n",
              "      <td>...</td>\n",
              "      <td>...</td>\n",
              "      <td>...</td>\n",
              "      <td>...</td>\n",
              "    </tr>\n",
              "    <tr>\n",
              "      <th>4317</th>\n",
              "      <td>US Navy</td>\n",
              "      <td>LC-18A, Cape Canaveral AFS, Florida, USA</td>\n",
              "      <td>Mon Mar 17, 1958 12:15 UTC</td>\n",
              "      <td>Vanguard | Vanguard 1</td>\n",
              "      <td>StatusRetired</td>\n",
              "      <td>NaN</td>\n",
              "      <td>Success</td>\n",
              "      <td>USA</td>\n",
              "      <td>12:15</td>\n",
              "      <td>Mon Mar 17</td>\n",
              "      <td>1958</td>\n",
              "      <td>USA</td>\n",
              "      <td>Success</td>\n",
              "      <td>1</td>\n",
              "      <td>0.0</td>\n",
              "    </tr>\n",
              "    <tr>\n",
              "      <th>4318</th>\n",
              "      <td>AMBA</td>\n",
              "      <td>LC-26A, Cape Canaveral AFS, Florida, USA</td>\n",
              "      <td>Wed Mar 05, 1958 18:27 UTC</td>\n",
              "      <td>Juno I | Explorer 2</td>\n",
              "      <td>StatusRetired</td>\n",
              "      <td>NaN</td>\n",
              "      <td>Failure</td>\n",
              "      <td>USA</td>\n",
              "      <td>18:27</td>\n",
              "      <td>Wed Mar 05</td>\n",
              "      <td>1958</td>\n",
              "      <td>USA</td>\n",
              "      <td>Failure</td>\n",
              "      <td>0</td>\n",
              "      <td>0.0</td>\n",
              "    </tr>\n",
              "    <tr>\n",
              "      <th>4319</th>\n",
              "      <td>US Navy</td>\n",
              "      <td>LC-18A, Cape Canaveral AFS, Florida, USA</td>\n",
              "      <td>Wed Feb 05, 1958 07:33 UTC</td>\n",
              "      <td>Vanguard | Vanguard TV3BU</td>\n",
              "      <td>StatusRetired</td>\n",
              "      <td>NaN</td>\n",
              "      <td>Failure</td>\n",
              "      <td>USA</td>\n",
              "      <td>07:33</td>\n",
              "      <td>Wed Feb 05</td>\n",
              "      <td>1958</td>\n",
              "      <td>USA</td>\n",
              "      <td>Failure</td>\n",
              "      <td>0</td>\n",
              "      <td>0.0</td>\n",
              "    </tr>\n",
              "    <tr>\n",
              "      <th>4320</th>\n",
              "      <td>AMBA</td>\n",
              "      <td>LC-26A, Cape Canaveral AFS, Florida, USA</td>\n",
              "      <td>Sat Feb 01, 1958 03:48 UTC</td>\n",
              "      <td>Juno I | Explorer 1</td>\n",
              "      <td>StatusRetired</td>\n",
              "      <td>NaN</td>\n",
              "      <td>Success</td>\n",
              "      <td>USA</td>\n",
              "      <td>03:48</td>\n",
              "      <td>Sat Feb 01</td>\n",
              "      <td>1958</td>\n",
              "      <td>USA</td>\n",
              "      <td>Success</td>\n",
              "      <td>1</td>\n",
              "      <td>0.0</td>\n",
              "    </tr>\n",
              "    <tr>\n",
              "      <th>4321</th>\n",
              "      <td>US Navy</td>\n",
              "      <td>LC-18A, Cape Canaveral AFS, Florida, USA</td>\n",
              "      <td>Fri Dec 06, 1957 16:44 UTC</td>\n",
              "      <td>Vanguard | Vanguard TV3</td>\n",
              "      <td>StatusRetired</td>\n",
              "      <td>NaN</td>\n",
              "      <td>Failure</td>\n",
              "      <td>USA</td>\n",
              "      <td>16:44</td>\n",
              "      <td>Fri Dec 06</td>\n",
              "      <td>1957</td>\n",
              "      <td>USA</td>\n",
              "      <td>Failure</td>\n",
              "      <td>0</td>\n",
              "      <td>0.0</td>\n",
              "    </tr>\n",
              "  </tbody>\n",
              "</table>\n",
              "<p>1353 rows × 15 columns</p>\n",
              "</div>"
            ],
            "text/plain": [
              "     Company Name  ... total_launch\n",
              "0          SpaceX  ...          1.0\n",
              "2          SpaceX  ...          2.0\n",
              "4             ULA  ...          1.0\n",
              "8          SpaceX  ...          1.0\n",
              "10       Northrop  ...          1.0\n",
              "...           ...  ...          ...\n",
              "4317      US Navy  ...          0.0\n",
              "4318         AMBA  ...          0.0\n",
              "4319      US Navy  ...          0.0\n",
              "4320         AMBA  ...          0.0\n",
              "4321      US Navy  ...          0.0\n",
              "\n",
              "[1353 rows x 15 columns]"
            ]
          },
          "metadata": {
            "tags": []
          },
          "execution_count": 30
        }
      ]
    }
  ]
}